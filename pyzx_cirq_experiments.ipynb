{
 "cells": [
  {
   "cell_type": "code",
   "execution_count": 2,
   "id": "restricted-courage",
   "metadata": {},
   "outputs": [],
   "source": [
    "#https://pyzx.readthedocs.io/_/downloads/en/latest/pdf/"
   ]
  },
  {
   "cell_type": "code",
   "execution_count": 3,
   "id": "dressed-agreement",
   "metadata": {},
   "outputs": [],
   "source": [
    "import numpy as np\n",
    "\n",
    "import pyzx as zx\n",
    "import cirq"
   ]
  },
  {
   "cell_type": "code",
   "execution_count": 4,
   "metadata": {},
   "outputs": [],
   "source": [
    "import Cirq_PyZx as cq_zx"
   ]
  },
  {
   "cell_type": "code",
   "execution_count": 5,
   "metadata": {},
   "outputs": [],
   "source": [
    "# Build a toy circuit "
   ]
  },
  {
   "cell_type": "code",
   "execution_count": 6,
   "metadata": {},
   "outputs": [],
   "source": [
    "#Qubits \n",
    "\n",
    "q0=cirq.NamedQubit('q0')\n",
    "q1=cirq.NamedQubit('q1')\n",
    "q2=cirq.NamedQubit('q2')\n",
    "q3=cirq.NamedQubit('q3')\n",
    "# it will be usefull to check Linequbit GridQubit \n",
    "\n",
    "\n",
    "#Gates \n",
    "\n",
    "cn=cirq.CNOT\n",
    "Z=cirq.Z\n",
    "X=cirq.X\n",
    "Y=cirq.Y\n",
    "\n",
    "sqrt_x=cirq.X**0.5\n",
    "sqrt_iswap=cirq.ISWAP**0.5\n",
    "\n",
    "sqrt_sqrt_y = cirq.YPowGate(exponent=0.25)\n"
   ]
  },
  {
   "cell_type": "code",
   "execution_count": 29,
   "metadata": {},
   "outputs": [
    {
     "output_type": "stream",
     "name": "stdout",
     "text": [
      "q0: ───Z───────────@───@───────X───\n                   │   │       │\nq1: ───Z───Z───Z───┼───X───X───@───\n                   │       │\nq2: ───────────Z───X───────┼───────\n                           │\nq3: ───Z───────────────────@───────\n"
     ]
    }
   ],
   "source": [
    "#Operation\n",
    "\n",
    "z_op=Z(q0)\n",
    "z_op_1=Z(q1)\n",
    "\n",
    "#Circuit \n",
    "\n",
    "circuit=cirq.Circuit()\n",
    "\n",
    "#Moment\n",
    "\n",
    "circuit.append([z_op,z_op_1])\n",
    "circuit.append(z_op_1)\n",
    "circuit.append(cirq.Moment([z_op_1, Z(q2)]))\n",
    "circuit.append(Z(q3))\n",
    "\n",
    "circuit.append([cn(q0,q2),cn(q0,q1),cn(q3,q1),cn(q1,q0)])\n",
    "print(circuit)"
   ]
  },
  {
   "cell_type": "code",
   "execution_count": 8,
   "metadata": {},
   "outputs": [],
   "source": [
    "# Device\n",
    "# -> May be i will come back later."
   ]
  },
  {
   "cell_type": "code",
   "execution_count": 30,
   "metadata": {},
   "outputs": [
    {
     "output_type": "display_data",
     "data": {
      "text/plain": "<IPython.core.display.HTML object>",
      "text/html": "<div style=\"overflow:auto\" id=\"graph-output-tFM2PSjg\"></div>\n<script type=\"text/javascript\">\nrequire.config({paths: {d3: \"https://d3js.org/d3.v5.min\"} });\n// PyZX - Python library for quantum circuit rewriting \n//        and optimisation using the ZX-calculus\n// Copyright (C) 2018 - Aleks Kissinger and John van de Wetering\n\n// Licensed under the Apache License, Version 2.0 (the \"License\");\n// you may not use this file except in compliance with the License.\n// You may obtain a copy of the License at\n\n//    http://www.apache.org/licenses/LICENSE-2.0\n\n// Unless required by applicable law or agreed to in writing, software\n// distributed under the License is distributed on an \"AS IS\" BASIS,\n// WITHOUT WARRANTIES OR CONDITIONS OF ANY KIND, either express or implied.\n// See the License for the specific language governing permissions and\n// limitations under the License.\n\nrequire.undef('zx_viewer');\n\ndefine('zx_viewer', ['d3'], function(d3) {\n    \n    // styling functions\n    function nodeColor(t) {\n        if (t == 0) return \"black\";\n        else if (t == 1) return \"#ccffcc\";\n        else if (t == 2) return \"#ff8888\";\n        else if (t == 3) return \"yellow\";\n    }\n\n    function edgeColor(t) {\n        if (t == 1) return \"black\";\n        else if (t == 2) return \"#08f\";\n    }\n\n    function nodeStyle(selected) {\n        return selected ? \"stroke-width: 2px; stroke: #00f\" : \"stroke-width: 1.5px\";\n    }\n\n    return {\n    showGraph: function(tag, graph, width, height, scale, node_size, auto_hbox, show_labels, scalar_str) {\n        var ntab = {};\n\n        graph.nodes.forEach(function(d) {\n            ntab[d.name] = d;\n            d.selected = false;\n            d.previouslySelected = false;\n            d.nhd = [];\n        });\n\n        var spiders_and_boundaries = graph.nodes.filter(function(d) {\n            return d.t != 3;\n        });\n\n        graph.links.forEach(function(d) {\n            var s = ntab[d.source];\n            var t = ntab[d.target];\n            d.source = s;\n            d.target = t;\n            s.nhd.push(t);\n            t.nhd.push(s);\n        });\n\n        var shiftKey;\n\n        // SETUP SVG ITEMS\n\n        var svg = d3.select(tag)\n            //.attr(\"tabindex\", 1)\n            .on(\"keydown.brush\", function() {shiftKey = d3.event.shiftKey || d3.event.metaKey;})\n            .on(\"keyup.brush\", function() {shiftKey = d3.event.shiftKey || d3.event.metaKey;})\n            //.each(function() { this.focus(); })\n            .append(\"svg\")\n            .attr(\"style\", \"max-width: none; max-height: none\")\n            .attr(\"width\", width)\n            .attr(\"height\", height);\n\n        var link = svg.append(\"g\")\n            .attr(\"class\", \"link\")\n            .selectAll(\"line\")\n            .data(graph.links)\n            .enter().append(\"line\")\n            .attr(\"stroke\", function(d) { return edgeColor(d.t); })\n            .attr(\"style\", \"stroke-width: 1.5px\");\n\n        var brush = svg.append(\"g\")\n            .attr(\"class\", \"brush\");\n\n        var node = svg.append(\"g\")\n            .attr(\"class\", \"node\")\n            .selectAll(\"g\")\n            .data(graph.nodes)\n            .enter().append(\"g\")\n            .attr(\"transform\", function(d) {\n                return \"translate(\" + d.x + \",\" + d.y +\")\";\n            });\n\n        node.filter(function(d) { return d.t != 3; })\n            .append(\"circle\")\n            .attr(\"r\", function(d) {\n               if (d.t == 0) return 0.5 * node_size;\n               else return node_size;\n            })\n            .attr(\"fill\", function(d) { return nodeColor(d.t); })\n            .attr(\"stroke\", \"black\");\n\n        var hbox = node.filter(function(d) { return d.t == 3; });\n\n        hbox.append(\"rect\")\n            .attr(\"x\", -0.75 * node_size).attr(\"y\", -0.75 * node_size)\n            .attr(\"width\", node_size * 1.5).attr(\"height\", node_size * 1.5)\n            .attr(\"fill\", function(d) { return nodeColor(d.t); })\n            .attr(\"stroke\", \"black\");\n\n        node.filter(function(d) { return d.phase != ''; })\n            .append(\"text\")\n            .attr(\"y\", 0.7 * node_size + 14)\n            .text(function (d) { return d.phase })\n            .attr(\"text-anchor\", \"middle\")\n            .attr(\"font-size\", \"12px\")\n            .attr(\"font-family\", \"monospace\")\n            .attr(\"fill\", \"#00d\")\n            .attr('style', 'pointer-events: none; user-select: none;');\n\n        if (show_labels) {\n            node.append(\"text\")\n                .attr(\"y\", -0.7 * node_size - 8)\n                .text(function (d) { return d.name; })\n                .attr(\"text-anchor\", \"middle\")\n                .attr(\"font-size\", \"10px\")\n                .attr(\"font-family\", \"monospace\")\n                .attr(\"fill\", \"#999\")\n                .attr('style', 'pointer-events: none; user-select: none;');\n        }\n\n        if (scalar_str != \"\") {\n            svg.append(\"text\")\n                .text(scalar_str)\n                .attr(\"x\", 60).attr(\"y\", 40)\n                .attr(\"text-anchor\", \"middle\")\n        }\n\n        function update_hboxes() {\n            if (auto_hbox) {\n                var pos = {};\n                hbox.attr(\"transform\", function(d) {\n                    // calculate barycenter of non-hbox neighbours, then nudge a bit\n                    // to the NE.\n                    var x=0,y=0,sz=0;\n                    for (var i = 0; i < d.nhd.length; ++i) {\n                        if (d.nhd[i].t != 3) {\n                            sz++;\n                            x += d.nhd[i].x;\n                            y += d.nhd[i].y;\n                        }\n                    }\n\n                    offset = 0.25 * scale;\n\n                    if (sz != 0) {\n                        x = (x/sz) + offset;\n                        y = (y/sz) - offset;\n\n                        while (pos[[x,y]]) {\n                            x += offset;\n                        }\n                        d.x = x;\n                        d.y = y;\n                        pos[[x,y]] = true;\n                    }\n\n                    return \"translate(\"+d.x+\",\"+d.y+\")\";\n                });\n            }\n        }\n\n        update_hboxes();\n\n        link.attr(\"x1\", function(d) { return d.source.x; })\n            .attr(\"y1\", function(d) { return d.source.y; })\n            .attr(\"x2\", function(d) { return d.target.x; })\n            .attr(\"y2\", function(d) { return d.target.y; });\n\n        // EVENTS FOR DRAGGING AND SELECTION\n\n        node.on(\"mousedown\", function(d) {\n                if (shiftKey) {\n                    d3.select(this).select(\":first-child\").attr(\"style\", nodeStyle(d.selected = !d.selected));\n                    d3.event.stopImmediatePropagation();\n                } else if (!d.selected) {\n                    node.select(\":first-child\").attr(\"style\", function(p) { return nodeStyle(p.selected = d === p); });\n                }\n            })\n            .call(d3.drag().on(\"drag\", function(d) {\n                var dx = d3.event.dx;\n                var dy = d3.event.dy;\n                // node.filter(function(d) { return d.selected; })\n                //     .attr(\"cx\", function(d) { return d.x += dx; })\n                //     .attr(\"cy\", function(d) { return d.y += dy; });\n                node.filter(function(d) { return d.selected; })\n                    .attr(\"transform\", function(d) {\n                        d.x += dx;\n                        d.y += dy;\n                        return \"translate(\" + d.x + \",\" + d.y +\")\";\n                    });\n\n                update_hboxes();\n\n                link.filter(function(d) { return d.source.selected ||\n                                            (auto_hbox && d.source.t == 3); })\n                    .attr(\"x1\", function(d) { return d.source.x; })\n                    .attr(\"y1\", function(d) { return d.source.y; });\n\n                link.filter(function(d) { return d.target.selected ||\n                                            (auto_hbox && d.target.t == 3); })\n                    .attr(\"x2\", function(d) { return d.target.x; })\n                    .attr(\"y2\", function(d) { return d.target.y; });\n\n                // text.filter(function(d) { return d.selected; })\n                //     .attr(\"x\", function(d) { return d.x; })\n                //     .attr(\"y\", function(d) { return d.y + 0.7 * node_size + 14; });\n            }));\n\n        brush.call(d3.brush().keyModifiers(false)\n            .extent([[0, 0], [width, height]])\n            .on(\"start\", function() {\n                if (d3.event.sourceEvent.type !== \"end\") {\n                    node.select(\":first-child\").attr(\"style\", function(d) {\n                        return nodeStyle(\n                            d.selected = d.previouslySelected = shiftKey &&\n                            d.selected);\n                    });\n                }\n            })\n            .on(\"brush\", function() {\n                if (d3.event.sourceEvent.type !== \"end\") {\n                    var selection = d3.event.selection;\n                    node.select(\":first-child\").attr(\"style\", function(d) {\n                        return nodeStyle(d.selected = d.previouslySelected ^\n                            (selection != null\n                            && selection[0][0] <= d.x && d.x < selection[1][0]\n                            && selection[0][1] <= d.y && d.y < selection[1][1]));\n                    });\n                }\n            })\n            .on(\"end\", function() {\n                if (d3.event.selection != null) {\n                    d3.select(this).call(d3.event.target.move, null);\n                }\n            }));\n    }};\n});\n\n</script>\n<script type=\"text/javascript\">\nrequire(['zx_viewer'], function(zx_viewer) {\n    zx_viewer.showGraph('#graph-output-tFM2PSjg',\n    JSON.parse('{\"nodes\": [{\"name\": \"0\", \"x\": 50, \"y\": 100, \"t\": 0, \"phase\": \"\"}, {\"name\": \"1\", \"x\": 50, \"y\": 150, \"t\": 0, \"phase\": \"\"}, {\"name\": \"2\", \"x\": 50, \"y\": 200, \"t\": 0, \"phase\": \"\"}, {\"name\": \"3\", \"x\": 50, \"y\": 250, \"t\": 0, \"phase\": \"\"}, {\"name\": \"4\", \"x\": 100, \"y\": 250, \"t\": 1, \"phase\": \"\\u03c0\"}, {\"name\": \"5\", \"x\": 100, \"y\": 150, \"t\": 1, \"phase\": \"\\u03c0\"}, {\"name\": \"6\", \"x\": 100, \"y\": 100, \"t\": 1, \"phase\": \"\\u03c0\"}, {\"name\": \"7\", \"x\": 150, \"y\": 150, \"t\": 1, \"phase\": \"\\u03c0\"}, {\"name\": \"8\", \"x\": 200, \"y\": 150, \"t\": 1, \"phase\": \"\\u03c0\"}, {\"name\": \"9\", \"x\": 100, \"y\": 200, \"t\": 1, \"phase\": \"\\u03c0\"}, {\"name\": \"10\", \"x\": 150, \"y\": 200, \"t\": 2, \"phase\": \"\"}, {\"name\": \"11\", \"x\": 150, \"y\": 250, \"t\": 1, \"phase\": \"\"}, {\"name\": \"12\", \"x\": 250, \"y\": 150, \"t\": 2, \"phase\": \"\"}, {\"name\": \"13\", \"x\": 250, \"y\": 250, \"t\": 1, \"phase\": \"\"}, {\"name\": \"14\", \"x\": 300, \"y\": 150, \"t\": 2, \"phase\": \"\"}, {\"name\": \"15\", \"x\": 300, \"y\": 100, \"t\": 1, \"phase\": \"\"}, {\"name\": \"16\", \"x\": 350, \"y\": 250, \"t\": 2, \"phase\": \"\"}, {\"name\": \"17\", \"x\": 350, \"y\": 150, \"t\": 1, \"phase\": \"\"}, {\"name\": \"18\", \"x\": 400, \"y\": 100, \"t\": 0, \"phase\": \"\"}, {\"name\": \"19\", \"x\": 400, \"y\": 150, \"t\": 0, \"phase\": \"\"}, {\"name\": \"20\", \"x\": 400, \"y\": 200, \"t\": 0, \"phase\": \"\"}, {\"name\": \"21\", \"x\": 400, \"y\": 250, \"t\": 0, \"phase\": \"\"}], \"links\": [{\"source\": \"0\", \"target\": \"6\", \"t\": 1}, {\"source\": \"1\", \"target\": \"5\", \"t\": 1}, {\"source\": \"2\", \"target\": \"9\", \"t\": 1}, {\"source\": \"3\", \"target\": \"4\", \"t\": 1}, {\"source\": \"4\", \"target\": \"11\", \"t\": 1}, {\"source\": \"5\", \"target\": \"7\", \"t\": 1}, {\"source\": \"6\", \"target\": \"15\", \"t\": 1}, {\"source\": \"7\", \"target\": \"8\", \"t\": 1}, {\"source\": \"8\", \"target\": \"12\", \"t\": 1}, {\"source\": \"9\", \"target\": \"10\", \"t\": 1}, {\"source\": \"10\", \"target\": \"11\", \"t\": 1}, {\"source\": \"10\", \"target\": \"20\", \"t\": 1}, {\"source\": \"11\", \"target\": \"13\", \"t\": 1}, {\"source\": \"12\", \"target\": \"13\", \"t\": 1}, {\"source\": \"12\", \"target\": \"14\", \"t\": 1}, {\"source\": \"13\", \"target\": \"16\", \"t\": 1}, {\"source\": \"14\", \"target\": \"15\", \"t\": 1}, {\"source\": \"14\", \"target\": \"17\", \"t\": 1}, {\"source\": \"15\", \"target\": \"18\", \"t\": 1}, {\"source\": \"16\", \"target\": \"17\", \"t\": 1}, {\"source\": \"16\", \"target\": \"21\", \"t\": 1}, {\"source\": \"17\", \"target\": \"19\", \"t\": 1}]}'), 450, 300, 50, 10.0, false, false, '');\n});\n</script>"
     },
     "metadata": {}
    }
   ],
   "source": [
    "circ_ZX=cq_zx.Cirq_PyZX(circuit)\n",
    "Zx_circuit=circ_ZX.circuit_zx \n",
    "zx.draw(Zx_circuit)"
   ]
  },
  {
   "cell_type": "code",
   "execution_count": 33,
   "metadata": {},
   "outputs": [
    {
     "output_type": "stream",
     "name": "stdout",
     "text": [
      "criq circuit:\nq0: ───Z───────────────@───────\n                       │\nq1: ───Z───Z───Z───X───X───@───\n                   │       │\nq2: ───Z───X───────┼───────┼───\n           │       │       │\nq3: ───Z───@───────@───────X───\n"
     ]
    }
   ],
   "source": [
    "from PyZx_Cirq_StoneAge import to_Cirq_circuit\n",
    "\n",
    "circ_ZX=cq_zx.Cirq_PyZX(circuit)\n",
    "cirq_circuit=to_Cirq_circuit(circ_ZX.circuit_zx )\n",
    "print(\"criq circuit:\")\n",
    "print(cirq_circuit)"
   ]
  },
  {
   "cell_type": "code",
   "execution_count": 10,
   "id": "latest-satin",
   "metadata": {},
   "outputs": [
    {
     "output_type": "stream",
     "name": "stdout",
     "text": [
      "initial graph circuit:\n"
     ]
    },
    {
     "output_type": "display_data",
     "data": {
      "text/plain": "<IPython.core.display.HTML object>",
      "text/html": "<div style=\"overflow:auto\" id=\"graph-output-8BTfUa8C\"></div>\n<script type=\"text/javascript\">\nrequire.config({paths: {d3: \"https://d3js.org/d3.v5.min\"} });\n// PyZX - Python library for quantum circuit rewriting \n//        and optimisation using the ZX-calculus\n// Copyright (C) 2018 - Aleks Kissinger and John van de Wetering\n\n// Licensed under the Apache License, Version 2.0 (the \"License\");\n// you may not use this file except in compliance with the License.\n// You may obtain a copy of the License at\n\n//    http://www.apache.org/licenses/LICENSE-2.0\n\n// Unless required by applicable law or agreed to in writing, software\n// distributed under the License is distributed on an \"AS IS\" BASIS,\n// WITHOUT WARRANTIES OR CONDITIONS OF ANY KIND, either express or implied.\n// See the License for the specific language governing permissions and\n// limitations under the License.\n\nrequire.undef('zx_viewer');\n\ndefine('zx_viewer', ['d3'], function(d3) {\n    \n    // styling functions\n    function nodeColor(t) {\n        if (t == 0) return \"black\";\n        else if (t == 1) return \"#ccffcc\";\n        else if (t == 2) return \"#ff8888\";\n        else if (t == 3) return \"yellow\";\n    }\n\n    function edgeColor(t) {\n        if (t == 1) return \"black\";\n        else if (t == 2) return \"#08f\";\n    }\n\n    function nodeStyle(selected) {\n        return selected ? \"stroke-width: 2px; stroke: #00f\" : \"stroke-width: 1.5px\";\n    }\n\n    return {\n    showGraph: function(tag, graph, width, height, scale, node_size, auto_hbox, show_labels, scalar_str) {\n        var ntab = {};\n\n        graph.nodes.forEach(function(d) {\n            ntab[d.name] = d;\n            d.selected = false;\n            d.previouslySelected = false;\n            d.nhd = [];\n        });\n\n        var spiders_and_boundaries = graph.nodes.filter(function(d) {\n            return d.t != 3;\n        });\n\n        graph.links.forEach(function(d) {\n            var s = ntab[d.source];\n            var t = ntab[d.target];\n            d.source = s;\n            d.target = t;\n            s.nhd.push(t);\n            t.nhd.push(s);\n        });\n\n        var shiftKey;\n\n        // SETUP SVG ITEMS\n\n        var svg = d3.select(tag)\n            //.attr(\"tabindex\", 1)\n            .on(\"keydown.brush\", function() {shiftKey = d3.event.shiftKey || d3.event.metaKey;})\n            .on(\"keyup.brush\", function() {shiftKey = d3.event.shiftKey || d3.event.metaKey;})\n            //.each(function() { this.focus(); })\n            .append(\"svg\")\n            .attr(\"style\", \"max-width: none; max-height: none\")\n            .attr(\"width\", width)\n            .attr(\"height\", height);\n\n        var link = svg.append(\"g\")\n            .attr(\"class\", \"link\")\n            .selectAll(\"line\")\n            .data(graph.links)\n            .enter().append(\"line\")\n            .attr(\"stroke\", function(d) { return edgeColor(d.t); })\n            .attr(\"style\", \"stroke-width: 1.5px\");\n\n        var brush = svg.append(\"g\")\n            .attr(\"class\", \"brush\");\n\n        var node = svg.append(\"g\")\n            .attr(\"class\", \"node\")\n            .selectAll(\"g\")\n            .data(graph.nodes)\n            .enter().append(\"g\")\n            .attr(\"transform\", function(d) {\n                return \"translate(\" + d.x + \",\" + d.y +\")\";\n            });\n\n        node.filter(function(d) { return d.t != 3; })\n            .append(\"circle\")\n            .attr(\"r\", function(d) {\n               if (d.t == 0) return 0.5 * node_size;\n               else return node_size;\n            })\n            .attr(\"fill\", function(d) { return nodeColor(d.t); })\n            .attr(\"stroke\", \"black\");\n\n        var hbox = node.filter(function(d) { return d.t == 3; });\n\n        hbox.append(\"rect\")\n            .attr(\"x\", -0.75 * node_size).attr(\"y\", -0.75 * node_size)\n            .attr(\"width\", node_size * 1.5).attr(\"height\", node_size * 1.5)\n            .attr(\"fill\", function(d) { return nodeColor(d.t); })\n            .attr(\"stroke\", \"black\");\n\n        node.filter(function(d) { return d.phase != ''; })\n            .append(\"text\")\n            .attr(\"y\", 0.7 * node_size + 14)\n            .text(function (d) { return d.phase })\n            .attr(\"text-anchor\", \"middle\")\n            .attr(\"font-size\", \"12px\")\n            .attr(\"font-family\", \"monospace\")\n            .attr(\"fill\", \"#00d\")\n            .attr('style', 'pointer-events: none; user-select: none;');\n\n        if (show_labels) {\n            node.append(\"text\")\n                .attr(\"y\", -0.7 * node_size - 8)\n                .text(function (d) { return d.name; })\n                .attr(\"text-anchor\", \"middle\")\n                .attr(\"font-size\", \"10px\")\n                .attr(\"font-family\", \"monospace\")\n                .attr(\"fill\", \"#999\")\n                .attr('style', 'pointer-events: none; user-select: none;');\n        }\n\n        if (scalar_str != \"\") {\n            svg.append(\"text\")\n                .text(scalar_str)\n                .attr(\"x\", 60).attr(\"y\", 40)\n                .attr(\"text-anchor\", \"middle\")\n        }\n\n        function update_hboxes() {\n            if (auto_hbox) {\n                var pos = {};\n                hbox.attr(\"transform\", function(d) {\n                    // calculate barycenter of non-hbox neighbours, then nudge a bit\n                    // to the NE.\n                    var x=0,y=0,sz=0;\n                    for (var i = 0; i < d.nhd.length; ++i) {\n                        if (d.nhd[i].t != 3) {\n                            sz++;\n                            x += d.nhd[i].x;\n                            y += d.nhd[i].y;\n                        }\n                    }\n\n                    offset = 0.25 * scale;\n\n                    if (sz != 0) {\n                        x = (x/sz) + offset;\n                        y = (y/sz) - offset;\n\n                        while (pos[[x,y]]) {\n                            x += offset;\n                        }\n                        d.x = x;\n                        d.y = y;\n                        pos[[x,y]] = true;\n                    }\n\n                    return \"translate(\"+d.x+\",\"+d.y+\")\";\n                });\n            }\n        }\n\n        update_hboxes();\n\n        link.attr(\"x1\", function(d) { return d.source.x; })\n            .attr(\"y1\", function(d) { return d.source.y; })\n            .attr(\"x2\", function(d) { return d.target.x; })\n            .attr(\"y2\", function(d) { return d.target.y; });\n\n        // EVENTS FOR DRAGGING AND SELECTION\n\n        node.on(\"mousedown\", function(d) {\n                if (shiftKey) {\n                    d3.select(this).select(\":first-child\").attr(\"style\", nodeStyle(d.selected = !d.selected));\n                    d3.event.stopImmediatePropagation();\n                } else if (!d.selected) {\n                    node.select(\":first-child\").attr(\"style\", function(p) { return nodeStyle(p.selected = d === p); });\n                }\n            })\n            .call(d3.drag().on(\"drag\", function(d) {\n                var dx = d3.event.dx;\n                var dy = d3.event.dy;\n                // node.filter(function(d) { return d.selected; })\n                //     .attr(\"cx\", function(d) { return d.x += dx; })\n                //     .attr(\"cy\", function(d) { return d.y += dy; });\n                node.filter(function(d) { return d.selected; })\n                    .attr(\"transform\", function(d) {\n                        d.x += dx;\n                        d.y += dy;\n                        return \"translate(\" + d.x + \",\" + d.y +\")\";\n                    });\n\n                update_hboxes();\n\n                link.filter(function(d) { return d.source.selected ||\n                                            (auto_hbox && d.source.t == 3); })\n                    .attr(\"x1\", function(d) { return d.source.x; })\n                    .attr(\"y1\", function(d) { return d.source.y; });\n\n                link.filter(function(d) { return d.target.selected ||\n                                            (auto_hbox && d.target.t == 3); })\n                    .attr(\"x2\", function(d) { return d.target.x; })\n                    .attr(\"y2\", function(d) { return d.target.y; });\n\n                // text.filter(function(d) { return d.selected; })\n                //     .attr(\"x\", function(d) { return d.x; })\n                //     .attr(\"y\", function(d) { return d.y + 0.7 * node_size + 14; });\n            }));\n\n        brush.call(d3.brush().keyModifiers(false)\n            .extent([[0, 0], [width, height]])\n            .on(\"start\", function() {\n                if (d3.event.sourceEvent.type !== \"end\") {\n                    node.select(\":first-child\").attr(\"style\", function(d) {\n                        return nodeStyle(\n                            d.selected = d.previouslySelected = shiftKey &&\n                            d.selected);\n                    });\n                }\n            })\n            .on(\"brush\", function() {\n                if (d3.event.sourceEvent.type !== \"end\") {\n                    var selection = d3.event.selection;\n                    node.select(\":first-child\").attr(\"style\", function(d) {\n                        return nodeStyle(d.selected = d.previouslySelected ^\n                            (selection != null\n                            && selection[0][0] <= d.x && d.x < selection[1][0]\n                            && selection[0][1] <= d.y && d.y < selection[1][1]));\n                    });\n                }\n            })\n            .on(\"end\", function() {\n                if (d3.event.selection != null) {\n                    d3.select(this).call(d3.event.target.move, null);\n                }\n            }));\n    }};\n});\n\n</script>\n<script type=\"text/javascript\">\nrequire(['zx_viewer'], function(zx_viewer) {\n    zx_viewer.showGraph('#graph-output-8BTfUa8C',\n    JSON.parse('{\"nodes\": [{\"name\": \"0\", \"x\": 50, \"y\": 100, \"t\": 0, \"phase\": \"\"}, {\"name\": \"1\", \"x\": 50, \"y\": 150, \"t\": 0, \"phase\": \"\"}, {\"name\": \"2\", \"x\": 50, \"y\": 200, \"t\": 0, \"phase\": \"\"}, {\"name\": \"3\", \"x\": 50, \"y\": 250, \"t\": 0, \"phase\": \"\"}, {\"name\": \"4\", \"x\": 100, \"y\": 250, \"t\": 1, \"phase\": \"\\u03c0\"}, {\"name\": \"5\", \"x\": 100, \"y\": 150, \"t\": 1, \"phase\": \"\\u03c0\"}, {\"name\": \"6\", \"x\": 100, \"y\": 100, \"t\": 1, \"phase\": \"\\u03c0\"}, {\"name\": \"7\", \"x\": 150, \"y\": 150, \"t\": 1, \"phase\": \"\\u03c0\"}, {\"name\": \"8\", \"x\": 200, \"y\": 150, \"t\": 1, \"phase\": \"\\u03c0\"}, {\"name\": \"9\", \"x\": 100, \"y\": 200, \"t\": 1, \"phase\": \"\\u03c0\"}, {\"name\": \"10\", \"x\": 150, \"y\": 200, \"t\": 2, \"phase\": \"\"}, {\"name\": \"11\", \"x\": 150, \"y\": 250, \"t\": 1, \"phase\": \"\"}, {\"name\": \"12\", \"x\": 250, \"y\": 150, \"t\": 2, \"phase\": \"\"}, {\"name\": \"13\", \"x\": 250, \"y\": 250, \"t\": 1, \"phase\": \"\"}, {\"name\": \"14\", \"x\": 300, \"y\": 150, \"t\": 2, \"phase\": \"\"}, {\"name\": \"15\", \"x\": 300, \"y\": 100, \"t\": 1, \"phase\": \"\"}, {\"name\": \"16\", \"x\": 350, \"y\": 250, \"t\": 2, \"phase\": \"\"}, {\"name\": \"17\", \"x\": 350, \"y\": 150, \"t\": 1, \"phase\": \"\"}, {\"name\": \"18\", \"x\": 400, \"y\": 100, \"t\": 0, \"phase\": \"\"}, {\"name\": \"19\", \"x\": 400, \"y\": 150, \"t\": 0, \"phase\": \"\"}, {\"name\": \"20\", \"x\": 400, \"y\": 200, \"t\": 0, \"phase\": \"\"}, {\"name\": \"21\", \"x\": 400, \"y\": 250, \"t\": 0, \"phase\": \"\"}], \"links\": [{\"source\": \"0\", \"target\": \"6\", \"t\": 1}, {\"source\": \"1\", \"target\": \"5\", \"t\": 1}, {\"source\": \"2\", \"target\": \"9\", \"t\": 1}, {\"source\": \"3\", \"target\": \"4\", \"t\": 1}, {\"source\": \"4\", \"target\": \"11\", \"t\": 1}, {\"source\": \"5\", \"target\": \"7\", \"t\": 1}, {\"source\": \"6\", \"target\": \"15\", \"t\": 1}, {\"source\": \"7\", \"target\": \"8\", \"t\": 1}, {\"source\": \"8\", \"target\": \"12\", \"t\": 1}, {\"source\": \"9\", \"target\": \"10\", \"t\": 1}, {\"source\": \"10\", \"target\": \"11\", \"t\": 1}, {\"source\": \"10\", \"target\": \"20\", \"t\": 1}, {\"source\": \"11\", \"target\": \"13\", \"t\": 1}, {\"source\": \"12\", \"target\": \"13\", \"t\": 1}, {\"source\": \"12\", \"target\": \"14\", \"t\": 1}, {\"source\": \"13\", \"target\": \"16\", \"t\": 1}, {\"source\": \"14\", \"target\": \"15\", \"t\": 1}, {\"source\": \"14\", \"target\": \"17\", \"t\": 1}, {\"source\": \"15\", \"target\": \"18\", \"t\": 1}, {\"source\": \"16\", \"target\": \"17\", \"t\": 1}, {\"source\": \"16\", \"target\": \"21\", \"t\": 1}, {\"source\": \"17\", \"target\": \"19\", \"t\": 1}]}'), 450, 300, 50, 10.0, false, false, '');\n});\n</script>"
     },
     "metadata": {}
    },
    {
     "output_type": "stream",
     "name": "stdout",
     "text": [
      "optimize graph circuit:\n"
     ]
    },
    {
     "output_type": "display_data",
     "data": {
      "text/plain": "<IPython.core.display.HTML object>",
      "text/html": "<div style=\"overflow:auto\" id=\"graph-output-w47SRihg\"></div>\n<script type=\"text/javascript\">\nrequire.config({paths: {d3: \"https://d3js.org/d3.v5.min\"} });\n// PyZX - Python library for quantum circuit rewriting \n//        and optimisation using the ZX-calculus\n// Copyright (C) 2018 - Aleks Kissinger and John van de Wetering\n\n// Licensed under the Apache License, Version 2.0 (the \"License\");\n// you may not use this file except in compliance with the License.\n// You may obtain a copy of the License at\n\n//    http://www.apache.org/licenses/LICENSE-2.0\n\n// Unless required by applicable law or agreed to in writing, software\n// distributed under the License is distributed on an \"AS IS\" BASIS,\n// WITHOUT WARRANTIES OR CONDITIONS OF ANY KIND, either express or implied.\n// See the License for the specific language governing permissions and\n// limitations under the License.\n\nrequire.undef('zx_viewer');\n\ndefine('zx_viewer', ['d3'], function(d3) {\n    \n    // styling functions\n    function nodeColor(t) {\n        if (t == 0) return \"black\";\n        else if (t == 1) return \"#ccffcc\";\n        else if (t == 2) return \"#ff8888\";\n        else if (t == 3) return \"yellow\";\n    }\n\n    function edgeColor(t) {\n        if (t == 1) return \"black\";\n        else if (t == 2) return \"#08f\";\n    }\n\n    function nodeStyle(selected) {\n        return selected ? \"stroke-width: 2px; stroke: #00f\" : \"stroke-width: 1.5px\";\n    }\n\n    return {\n    showGraph: function(tag, graph, width, height, scale, node_size, auto_hbox, show_labels, scalar_str) {\n        var ntab = {};\n\n        graph.nodes.forEach(function(d) {\n            ntab[d.name] = d;\n            d.selected = false;\n            d.previouslySelected = false;\n            d.nhd = [];\n        });\n\n        var spiders_and_boundaries = graph.nodes.filter(function(d) {\n            return d.t != 3;\n        });\n\n        graph.links.forEach(function(d) {\n            var s = ntab[d.source];\n            var t = ntab[d.target];\n            d.source = s;\n            d.target = t;\n            s.nhd.push(t);\n            t.nhd.push(s);\n        });\n\n        var shiftKey;\n\n        // SETUP SVG ITEMS\n\n        var svg = d3.select(tag)\n            //.attr(\"tabindex\", 1)\n            .on(\"keydown.brush\", function() {shiftKey = d3.event.shiftKey || d3.event.metaKey;})\n            .on(\"keyup.brush\", function() {shiftKey = d3.event.shiftKey || d3.event.metaKey;})\n            //.each(function() { this.focus(); })\n            .append(\"svg\")\n            .attr(\"style\", \"max-width: none; max-height: none\")\n            .attr(\"width\", width)\n            .attr(\"height\", height);\n\n        var link = svg.append(\"g\")\n            .attr(\"class\", \"link\")\n            .selectAll(\"line\")\n            .data(graph.links)\n            .enter().append(\"line\")\n            .attr(\"stroke\", function(d) { return edgeColor(d.t); })\n            .attr(\"style\", \"stroke-width: 1.5px\");\n\n        var brush = svg.append(\"g\")\n            .attr(\"class\", \"brush\");\n\n        var node = svg.append(\"g\")\n            .attr(\"class\", \"node\")\n            .selectAll(\"g\")\n            .data(graph.nodes)\n            .enter().append(\"g\")\n            .attr(\"transform\", function(d) {\n                return \"translate(\" + d.x + \",\" + d.y +\")\";\n            });\n\n        node.filter(function(d) { return d.t != 3; })\n            .append(\"circle\")\n            .attr(\"r\", function(d) {\n               if (d.t == 0) return 0.5 * node_size;\n               else return node_size;\n            })\n            .attr(\"fill\", function(d) { return nodeColor(d.t); })\n            .attr(\"stroke\", \"black\");\n\n        var hbox = node.filter(function(d) { return d.t == 3; });\n\n        hbox.append(\"rect\")\n            .attr(\"x\", -0.75 * node_size).attr(\"y\", -0.75 * node_size)\n            .attr(\"width\", node_size * 1.5).attr(\"height\", node_size * 1.5)\n            .attr(\"fill\", function(d) { return nodeColor(d.t); })\n            .attr(\"stroke\", \"black\");\n\n        node.filter(function(d) { return d.phase != ''; })\n            .append(\"text\")\n            .attr(\"y\", 0.7 * node_size + 14)\n            .text(function (d) { return d.phase })\n            .attr(\"text-anchor\", \"middle\")\n            .attr(\"font-size\", \"12px\")\n            .attr(\"font-family\", \"monospace\")\n            .attr(\"fill\", \"#00d\")\n            .attr('style', 'pointer-events: none; user-select: none;');\n\n        if (show_labels) {\n            node.append(\"text\")\n                .attr(\"y\", -0.7 * node_size - 8)\n                .text(function (d) { return d.name; })\n                .attr(\"text-anchor\", \"middle\")\n                .attr(\"font-size\", \"10px\")\n                .attr(\"font-family\", \"monospace\")\n                .attr(\"fill\", \"#999\")\n                .attr('style', 'pointer-events: none; user-select: none;');\n        }\n\n        if (scalar_str != \"\") {\n            svg.append(\"text\")\n                .text(scalar_str)\n                .attr(\"x\", 60).attr(\"y\", 40)\n                .attr(\"text-anchor\", \"middle\")\n        }\n\n        function update_hboxes() {\n            if (auto_hbox) {\n                var pos = {};\n                hbox.attr(\"transform\", function(d) {\n                    // calculate barycenter of non-hbox neighbours, then nudge a bit\n                    // to the NE.\n                    var x=0,y=0,sz=0;\n                    for (var i = 0; i < d.nhd.length; ++i) {\n                        if (d.nhd[i].t != 3) {\n                            sz++;\n                            x += d.nhd[i].x;\n                            y += d.nhd[i].y;\n                        }\n                    }\n\n                    offset = 0.25 * scale;\n\n                    if (sz != 0) {\n                        x = (x/sz) + offset;\n                        y = (y/sz) - offset;\n\n                        while (pos[[x,y]]) {\n                            x += offset;\n                        }\n                        d.x = x;\n                        d.y = y;\n                        pos[[x,y]] = true;\n                    }\n\n                    return \"translate(\"+d.x+\",\"+d.y+\")\";\n                });\n            }\n        }\n\n        update_hboxes();\n\n        link.attr(\"x1\", function(d) { return d.source.x; })\n            .attr(\"y1\", function(d) { return d.source.y; })\n            .attr(\"x2\", function(d) { return d.target.x; })\n            .attr(\"y2\", function(d) { return d.target.y; });\n\n        // EVENTS FOR DRAGGING AND SELECTION\n\n        node.on(\"mousedown\", function(d) {\n                if (shiftKey) {\n                    d3.select(this).select(\":first-child\").attr(\"style\", nodeStyle(d.selected = !d.selected));\n                    d3.event.stopImmediatePropagation();\n                } else if (!d.selected) {\n                    node.select(\":first-child\").attr(\"style\", function(p) { return nodeStyle(p.selected = d === p); });\n                }\n            })\n            .call(d3.drag().on(\"drag\", function(d) {\n                var dx = d3.event.dx;\n                var dy = d3.event.dy;\n                // node.filter(function(d) { return d.selected; })\n                //     .attr(\"cx\", function(d) { return d.x += dx; })\n                //     .attr(\"cy\", function(d) { return d.y += dy; });\n                node.filter(function(d) { return d.selected; })\n                    .attr(\"transform\", function(d) {\n                        d.x += dx;\n                        d.y += dy;\n                        return \"translate(\" + d.x + \",\" + d.y +\")\";\n                    });\n\n                update_hboxes();\n\n                link.filter(function(d) { return d.source.selected ||\n                                            (auto_hbox && d.source.t == 3); })\n                    .attr(\"x1\", function(d) { return d.source.x; })\n                    .attr(\"y1\", function(d) { return d.source.y; });\n\n                link.filter(function(d) { return d.target.selected ||\n                                            (auto_hbox && d.target.t == 3); })\n                    .attr(\"x2\", function(d) { return d.target.x; })\n                    .attr(\"y2\", function(d) { return d.target.y; });\n\n                // text.filter(function(d) { return d.selected; })\n                //     .attr(\"x\", function(d) { return d.x; })\n                //     .attr(\"y\", function(d) { return d.y + 0.7 * node_size + 14; });\n            }));\n\n        brush.call(d3.brush().keyModifiers(false)\n            .extent([[0, 0], [width, height]])\n            .on(\"start\", function() {\n                if (d3.event.sourceEvent.type !== \"end\") {\n                    node.select(\":first-child\").attr(\"style\", function(d) {\n                        return nodeStyle(\n                            d.selected = d.previouslySelected = shiftKey &&\n                            d.selected);\n                    });\n                }\n            })\n            .on(\"brush\", function() {\n                if (d3.event.sourceEvent.type !== \"end\") {\n                    var selection = d3.event.selection;\n                    node.select(\":first-child\").attr(\"style\", function(d) {\n                        return nodeStyle(d.selected = d.previouslySelected ^\n                            (selection != null\n                            && selection[0][0] <= d.x && d.x < selection[1][0]\n                            && selection[0][1] <= d.y && d.y < selection[1][1]));\n                    });\n                }\n            })\n            .on(\"end\", function() {\n                if (d3.event.selection != null) {\n                    d3.select(this).call(d3.event.target.move, null);\n                }\n            }));\n    }};\n});\n\n</script>\n<script type=\"text/javascript\">\nrequire(['zx_viewer'], function(zx_viewer) {\n    zx_viewer.showGraph('#graph-output-w47SRihg',\n    JSON.parse('{\"nodes\": [{\"name\": \"0\", \"x\": 50, \"y\": 100, \"t\": 0, \"phase\": \"\"}, {\"name\": \"1\", \"x\": 50, \"y\": 150, \"t\": 0, \"phase\": \"\"}, {\"name\": \"2\", \"x\": 50, \"y\": 200, \"t\": 0, \"phase\": \"\"}, {\"name\": \"3\", \"x\": 50, \"y\": 250, \"t\": 0, \"phase\": \"\"}, {\"name\": \"4\", \"x\": 100, \"y\": 250, \"t\": 1, \"phase\": \"\"}, {\"name\": \"6\", \"x\": 100, \"y\": 100, \"t\": 1, \"phase\": \"\"}, {\"name\": \"9\", \"x\": 100, \"y\": 200, \"t\": 1, \"phase\": \"\\u03c0\"}, {\"name\": \"10\", \"x\": 150, \"y\": 200, \"t\": 1, \"phase\": \"\"}, {\"name\": \"12\", \"x\": 250, \"y\": 150, \"t\": 1, \"phase\": \"\"}, {\"name\": \"16\", \"x\": 350, \"y\": 250, \"t\": 1, \"phase\": \"\"}, {\"name\": \"17\", \"x\": 350, \"y\": 150, \"t\": 1, \"phase\": \"\\u03c0\"}, {\"name\": \"18\", \"x\": 400, \"y\": 100, \"t\": 0, \"phase\": \"\"}, {\"name\": \"19\", \"x\": 400, \"y\": 150, \"t\": 0, \"phase\": \"\"}, {\"name\": \"20\", \"x\": 400, \"y\": 200, \"t\": 0, \"phase\": \"\"}, {\"name\": \"21\", \"x\": 400, \"y\": 250, \"t\": 0, \"phase\": \"\"}], \"links\": [{\"source\": \"0\", \"target\": \"6\", \"t\": 1}, {\"source\": \"1\", \"target\": \"12\", \"t\": 2}, {\"source\": \"2\", \"target\": \"9\", \"t\": 1}, {\"source\": \"3\", \"target\": \"4\", \"t\": 1}, {\"source\": \"4\", \"target\": \"10\", \"t\": 2}, {\"source\": \"4\", \"target\": \"12\", \"t\": 2}, {\"source\": \"4\", \"target\": \"16\", \"t\": 2}, {\"source\": \"6\", \"target\": \"18\", \"t\": 1}, {\"source\": \"6\", \"target\": \"12\", \"t\": 2}, {\"source\": \"9\", \"target\": \"10\", \"t\": 2}, {\"source\": \"10\", \"target\": \"20\", \"t\": 2}, {\"source\": \"12\", \"target\": \"17\", \"t\": 2}, {\"source\": \"16\", \"target\": \"17\", \"t\": 2}, {\"source\": \"16\", \"target\": \"21\", \"t\": 2}, {\"source\": \"17\", \"target\": \"19\", \"t\": 1}]}'), 450, 300, 50, 10.0, false, false, '');\n});\n</script>"
     },
     "metadata": {}
    },
    {
     "output_type": "stream",
     "name": "stdout",
     "text": [
      "good-looking optimize graph:\n"
     ]
    },
    {
     "output_type": "display_data",
     "data": {
      "text/plain": "<IPython.core.display.HTML object>",
      "text/html": "<div style=\"overflow:auto\" id=\"graph-output-Y5EX0nRd\"></div>\n<script type=\"text/javascript\">\nrequire.config({paths: {d3: \"https://d3js.org/d3.v5.min\"} });\n// PyZX - Python library for quantum circuit rewriting \n//        and optimisation using the ZX-calculus\n// Copyright (C) 2018 - Aleks Kissinger and John van de Wetering\n\n// Licensed under the Apache License, Version 2.0 (the \"License\");\n// you may not use this file except in compliance with the License.\n// You may obtain a copy of the License at\n\n//    http://www.apache.org/licenses/LICENSE-2.0\n\n// Unless required by applicable law or agreed to in writing, software\n// distributed under the License is distributed on an \"AS IS\" BASIS,\n// WITHOUT WARRANTIES OR CONDITIONS OF ANY KIND, either express or implied.\n// See the License for the specific language governing permissions and\n// limitations under the License.\n\nrequire.undef('zx_viewer');\n\ndefine('zx_viewer', ['d3'], function(d3) {\n    \n    // styling functions\n    function nodeColor(t) {\n        if (t == 0) return \"black\";\n        else if (t == 1) return \"#ccffcc\";\n        else if (t == 2) return \"#ff8888\";\n        else if (t == 3) return \"yellow\";\n    }\n\n    function edgeColor(t) {\n        if (t == 1) return \"black\";\n        else if (t == 2) return \"#08f\";\n    }\n\n    function nodeStyle(selected) {\n        return selected ? \"stroke-width: 2px; stroke: #00f\" : \"stroke-width: 1.5px\";\n    }\n\n    return {\n    showGraph: function(tag, graph, width, height, scale, node_size, auto_hbox, show_labels, scalar_str) {\n        var ntab = {};\n\n        graph.nodes.forEach(function(d) {\n            ntab[d.name] = d;\n            d.selected = false;\n            d.previouslySelected = false;\n            d.nhd = [];\n        });\n\n        var spiders_and_boundaries = graph.nodes.filter(function(d) {\n            return d.t != 3;\n        });\n\n        graph.links.forEach(function(d) {\n            var s = ntab[d.source];\n            var t = ntab[d.target];\n            d.source = s;\n            d.target = t;\n            s.nhd.push(t);\n            t.nhd.push(s);\n        });\n\n        var shiftKey;\n\n        // SETUP SVG ITEMS\n\n        var svg = d3.select(tag)\n            //.attr(\"tabindex\", 1)\n            .on(\"keydown.brush\", function() {shiftKey = d3.event.shiftKey || d3.event.metaKey;})\n            .on(\"keyup.brush\", function() {shiftKey = d3.event.shiftKey || d3.event.metaKey;})\n            //.each(function() { this.focus(); })\n            .append(\"svg\")\n            .attr(\"style\", \"max-width: none; max-height: none\")\n            .attr(\"width\", width)\n            .attr(\"height\", height);\n\n        var link = svg.append(\"g\")\n            .attr(\"class\", \"link\")\n            .selectAll(\"line\")\n            .data(graph.links)\n            .enter().append(\"line\")\n            .attr(\"stroke\", function(d) { return edgeColor(d.t); })\n            .attr(\"style\", \"stroke-width: 1.5px\");\n\n        var brush = svg.append(\"g\")\n            .attr(\"class\", \"brush\");\n\n        var node = svg.append(\"g\")\n            .attr(\"class\", \"node\")\n            .selectAll(\"g\")\n            .data(graph.nodes)\n            .enter().append(\"g\")\n            .attr(\"transform\", function(d) {\n                return \"translate(\" + d.x + \",\" + d.y +\")\";\n            });\n\n        node.filter(function(d) { return d.t != 3; })\n            .append(\"circle\")\n            .attr(\"r\", function(d) {\n               if (d.t == 0) return 0.5 * node_size;\n               else return node_size;\n            })\n            .attr(\"fill\", function(d) { return nodeColor(d.t); })\n            .attr(\"stroke\", \"black\");\n\n        var hbox = node.filter(function(d) { return d.t == 3; });\n\n        hbox.append(\"rect\")\n            .attr(\"x\", -0.75 * node_size).attr(\"y\", -0.75 * node_size)\n            .attr(\"width\", node_size * 1.5).attr(\"height\", node_size * 1.5)\n            .attr(\"fill\", function(d) { return nodeColor(d.t); })\n            .attr(\"stroke\", \"black\");\n\n        node.filter(function(d) { return d.phase != ''; })\n            .append(\"text\")\n            .attr(\"y\", 0.7 * node_size + 14)\n            .text(function (d) { return d.phase })\n            .attr(\"text-anchor\", \"middle\")\n            .attr(\"font-size\", \"12px\")\n            .attr(\"font-family\", \"monospace\")\n            .attr(\"fill\", \"#00d\")\n            .attr('style', 'pointer-events: none; user-select: none;');\n\n        if (show_labels) {\n            node.append(\"text\")\n                .attr(\"y\", -0.7 * node_size - 8)\n                .text(function (d) { return d.name; })\n                .attr(\"text-anchor\", \"middle\")\n                .attr(\"font-size\", \"10px\")\n                .attr(\"font-family\", \"monospace\")\n                .attr(\"fill\", \"#999\")\n                .attr('style', 'pointer-events: none; user-select: none;');\n        }\n\n        if (scalar_str != \"\") {\n            svg.append(\"text\")\n                .text(scalar_str)\n                .attr(\"x\", 60).attr(\"y\", 40)\n                .attr(\"text-anchor\", \"middle\")\n        }\n\n        function update_hboxes() {\n            if (auto_hbox) {\n                var pos = {};\n                hbox.attr(\"transform\", function(d) {\n                    // calculate barycenter of non-hbox neighbours, then nudge a bit\n                    // to the NE.\n                    var x=0,y=0,sz=0;\n                    for (var i = 0; i < d.nhd.length; ++i) {\n                        if (d.nhd[i].t != 3) {\n                            sz++;\n                            x += d.nhd[i].x;\n                            y += d.nhd[i].y;\n                        }\n                    }\n\n                    offset = 0.25 * scale;\n\n                    if (sz != 0) {\n                        x = (x/sz) + offset;\n                        y = (y/sz) - offset;\n\n                        while (pos[[x,y]]) {\n                            x += offset;\n                        }\n                        d.x = x;\n                        d.y = y;\n                        pos[[x,y]] = true;\n                    }\n\n                    return \"translate(\"+d.x+\",\"+d.y+\")\";\n                });\n            }\n        }\n\n        update_hboxes();\n\n        link.attr(\"x1\", function(d) { return d.source.x; })\n            .attr(\"y1\", function(d) { return d.source.y; })\n            .attr(\"x2\", function(d) { return d.target.x; })\n            .attr(\"y2\", function(d) { return d.target.y; });\n\n        // EVENTS FOR DRAGGING AND SELECTION\n\n        node.on(\"mousedown\", function(d) {\n                if (shiftKey) {\n                    d3.select(this).select(\":first-child\").attr(\"style\", nodeStyle(d.selected = !d.selected));\n                    d3.event.stopImmediatePropagation();\n                } else if (!d.selected) {\n                    node.select(\":first-child\").attr(\"style\", function(p) { return nodeStyle(p.selected = d === p); });\n                }\n            })\n            .call(d3.drag().on(\"drag\", function(d) {\n                var dx = d3.event.dx;\n                var dy = d3.event.dy;\n                // node.filter(function(d) { return d.selected; })\n                //     .attr(\"cx\", function(d) { return d.x += dx; })\n                //     .attr(\"cy\", function(d) { return d.y += dy; });\n                node.filter(function(d) { return d.selected; })\n                    .attr(\"transform\", function(d) {\n                        d.x += dx;\n                        d.y += dy;\n                        return \"translate(\" + d.x + \",\" + d.y +\")\";\n                    });\n\n                update_hboxes();\n\n                link.filter(function(d) { return d.source.selected ||\n                                            (auto_hbox && d.source.t == 3); })\n                    .attr(\"x1\", function(d) { return d.source.x; })\n                    .attr(\"y1\", function(d) { return d.source.y; });\n\n                link.filter(function(d) { return d.target.selected ||\n                                            (auto_hbox && d.target.t == 3); })\n                    .attr(\"x2\", function(d) { return d.target.x; })\n                    .attr(\"y2\", function(d) { return d.target.y; });\n\n                // text.filter(function(d) { return d.selected; })\n                //     .attr(\"x\", function(d) { return d.x; })\n                //     .attr(\"y\", function(d) { return d.y + 0.7 * node_size + 14; });\n            }));\n\n        brush.call(d3.brush().keyModifiers(false)\n            .extent([[0, 0], [width, height]])\n            .on(\"start\", function() {\n                if (d3.event.sourceEvent.type !== \"end\") {\n                    node.select(\":first-child\").attr(\"style\", function(d) {\n                        return nodeStyle(\n                            d.selected = d.previouslySelected = shiftKey &&\n                            d.selected);\n                    });\n                }\n            })\n            .on(\"brush\", function() {\n                if (d3.event.sourceEvent.type !== \"end\") {\n                    var selection = d3.event.selection;\n                    node.select(\":first-child\").attr(\"style\", function(d) {\n                        return nodeStyle(d.selected = d.previouslySelected ^\n                            (selection != null\n                            && selection[0][0] <= d.x && d.x < selection[1][0]\n                            && selection[0][1] <= d.y && d.y < selection[1][1]));\n                    });\n                }\n            })\n            .on(\"end\", function() {\n                if (d3.event.selection != null) {\n                    d3.select(this).call(d3.event.target.move, null);\n                }\n            }));\n    }};\n});\n\n</script>\n<script type=\"text/javascript\">\nrequire(['zx_viewer'], function(zx_viewer) {\n    zx_viewer.showGraph('#graph-output-Y5EX0nRd',\n    JSON.parse('{\"nodes\": [{\"name\": \"0\", \"x\": 50, \"y\": 100, \"t\": 0, \"phase\": \"\"}, {\"name\": \"1\", \"x\": 50, \"y\": 150, \"t\": 0, \"phase\": \"\"}, {\"name\": \"2\", \"x\": 50, \"y\": 200, \"t\": 0, \"phase\": \"\"}, {\"name\": \"3\", \"x\": 50, \"y\": 250, \"t\": 0, \"phase\": \"\"}, {\"name\": \"4\", \"x\": 100, \"y\": 250, \"t\": 1, \"phase\": \"\"}, {\"name\": \"6\", \"x\": 100, \"y\": 100, \"t\": 1, \"phase\": \"\"}, {\"name\": \"9\", \"x\": 100, \"y\": 200, \"t\": 1, \"phase\": \"\\u03c0\"}, {\"name\": \"10\", \"x\": 150, \"y\": 200, \"t\": 1, \"phase\": \"\"}, {\"name\": \"12\", \"x\": 250, \"y\": 150, \"t\": 1, \"phase\": \"\"}, {\"name\": \"16\", \"x\": 350, \"y\": 250, \"t\": 1, \"phase\": \"\"}, {\"name\": \"17\", \"x\": 350, \"y\": 150, \"t\": 1, \"phase\": \"\\u03c0\"}, {\"name\": \"18\", \"x\": 400, \"y\": 100, \"t\": 0, \"phase\": \"\"}, {\"name\": \"19\", \"x\": 400, \"y\": 150, \"t\": 0, \"phase\": \"\"}, {\"name\": \"20\", \"x\": 400, \"y\": 200, \"t\": 0, \"phase\": \"\"}, {\"name\": \"21\", \"x\": 400, \"y\": 250, \"t\": 0, \"phase\": \"\"}], \"links\": [{\"source\": \"0\", \"target\": \"6\", \"t\": 1}, {\"source\": \"1\", \"target\": \"12\", \"t\": 2}, {\"source\": \"2\", \"target\": \"9\", \"t\": 1}, {\"source\": \"3\", \"target\": \"4\", \"t\": 1}, {\"source\": \"4\", \"target\": \"10\", \"t\": 2}, {\"source\": \"4\", \"target\": \"12\", \"t\": 2}, {\"source\": \"4\", \"target\": \"16\", \"t\": 2}, {\"source\": \"6\", \"target\": \"18\", \"t\": 1}, {\"source\": \"6\", \"target\": \"12\", \"t\": 2}, {\"source\": \"9\", \"target\": \"10\", \"t\": 2}, {\"source\": \"10\", \"target\": \"20\", \"t\": 2}, {\"source\": \"12\", \"target\": \"17\", \"t\": 2}, {\"source\": \"16\", \"target\": \"17\", \"t\": 2}, {\"source\": \"16\", \"target\": \"21\", \"t\": 2}, {\"source\": \"17\", \"target\": \"19\", \"t\": 1}]}'), 450, 300, 50, 10.0, false, false, '');\n});\n</script>"
     },
     "metadata": {}
    }
   ],
   "source": [
    "g=Zx_circuit.to_graph()\n",
    "print(\"initial graph circuit:\")\n",
    "zx.draw(g)\n",
    "zx.clifford_simp(g)\n",
    "print(\"optimize graph circuit:\")\n",
    "zx.draw(g)\n",
    "g.normalize\n",
    "print(\"good-looking optimize graph:\")\n",
    "zx.draw(g)"
   ]
  },
  {
   "cell_type": "code",
   "execution_count": 11,
   "metadata": {},
   "outputs": [
    {
     "output_type": "display_data",
     "data": {
      "text/plain": "<IPython.core.display.HTML object>",
      "text/html": "<div style=\"overflow:auto\" id=\"graph-output-ZU4ST51l\"></div>\n<script type=\"text/javascript\">\nrequire.config({paths: {d3: \"https://d3js.org/d3.v5.min\"} });\n// PyZX - Python library for quantum circuit rewriting \n//        and optimisation using the ZX-calculus\n// Copyright (C) 2018 - Aleks Kissinger and John van de Wetering\n\n// Licensed under the Apache License, Version 2.0 (the \"License\");\n// you may not use this file except in compliance with the License.\n// You may obtain a copy of the License at\n\n//    http://www.apache.org/licenses/LICENSE-2.0\n\n// Unless required by applicable law or agreed to in writing, software\n// distributed under the License is distributed on an \"AS IS\" BASIS,\n// WITHOUT WARRANTIES OR CONDITIONS OF ANY KIND, either express or implied.\n// See the License for the specific language governing permissions and\n// limitations under the License.\n\nrequire.undef('zx_viewer');\n\ndefine('zx_viewer', ['d3'], function(d3) {\n    \n    // styling functions\n    function nodeColor(t) {\n        if (t == 0) return \"black\";\n        else if (t == 1) return \"#ccffcc\";\n        else if (t == 2) return \"#ff8888\";\n        else if (t == 3) return \"yellow\";\n    }\n\n    function edgeColor(t) {\n        if (t == 1) return \"black\";\n        else if (t == 2) return \"#08f\";\n    }\n\n    function nodeStyle(selected) {\n        return selected ? \"stroke-width: 2px; stroke: #00f\" : \"stroke-width: 1.5px\";\n    }\n\n    return {\n    showGraph: function(tag, graph, width, height, scale, node_size, auto_hbox, show_labels, scalar_str) {\n        var ntab = {};\n\n        graph.nodes.forEach(function(d) {\n            ntab[d.name] = d;\n            d.selected = false;\n            d.previouslySelected = false;\n            d.nhd = [];\n        });\n\n        var spiders_and_boundaries = graph.nodes.filter(function(d) {\n            return d.t != 3;\n        });\n\n        graph.links.forEach(function(d) {\n            var s = ntab[d.source];\n            var t = ntab[d.target];\n            d.source = s;\n            d.target = t;\n            s.nhd.push(t);\n            t.nhd.push(s);\n        });\n\n        var shiftKey;\n\n        // SETUP SVG ITEMS\n\n        var svg = d3.select(tag)\n            //.attr(\"tabindex\", 1)\n            .on(\"keydown.brush\", function() {shiftKey = d3.event.shiftKey || d3.event.metaKey;})\n            .on(\"keyup.brush\", function() {shiftKey = d3.event.shiftKey || d3.event.metaKey;})\n            //.each(function() { this.focus(); })\n            .append(\"svg\")\n            .attr(\"style\", \"max-width: none; max-height: none\")\n            .attr(\"width\", width)\n            .attr(\"height\", height);\n\n        var link = svg.append(\"g\")\n            .attr(\"class\", \"link\")\n            .selectAll(\"line\")\n            .data(graph.links)\n            .enter().append(\"line\")\n            .attr(\"stroke\", function(d) { return edgeColor(d.t); })\n            .attr(\"style\", \"stroke-width: 1.5px\");\n\n        var brush = svg.append(\"g\")\n            .attr(\"class\", \"brush\");\n\n        var node = svg.append(\"g\")\n            .attr(\"class\", \"node\")\n            .selectAll(\"g\")\n            .data(graph.nodes)\n            .enter().append(\"g\")\n            .attr(\"transform\", function(d) {\n                return \"translate(\" + d.x + \",\" + d.y +\")\";\n            });\n\n        node.filter(function(d) { return d.t != 3; })\n            .append(\"circle\")\n            .attr(\"r\", function(d) {\n               if (d.t == 0) return 0.5 * node_size;\n               else return node_size;\n            })\n            .attr(\"fill\", function(d) { return nodeColor(d.t); })\n            .attr(\"stroke\", \"black\");\n\n        var hbox = node.filter(function(d) { return d.t == 3; });\n\n        hbox.append(\"rect\")\n            .attr(\"x\", -0.75 * node_size).attr(\"y\", -0.75 * node_size)\n            .attr(\"width\", node_size * 1.5).attr(\"height\", node_size * 1.5)\n            .attr(\"fill\", function(d) { return nodeColor(d.t); })\n            .attr(\"stroke\", \"black\");\n\n        node.filter(function(d) { return d.phase != ''; })\n            .append(\"text\")\n            .attr(\"y\", 0.7 * node_size + 14)\n            .text(function (d) { return d.phase })\n            .attr(\"text-anchor\", \"middle\")\n            .attr(\"font-size\", \"12px\")\n            .attr(\"font-family\", \"monospace\")\n            .attr(\"fill\", \"#00d\")\n            .attr('style', 'pointer-events: none; user-select: none;');\n\n        if (show_labels) {\n            node.append(\"text\")\n                .attr(\"y\", -0.7 * node_size - 8)\n                .text(function (d) { return d.name; })\n                .attr(\"text-anchor\", \"middle\")\n                .attr(\"font-size\", \"10px\")\n                .attr(\"font-family\", \"monospace\")\n                .attr(\"fill\", \"#999\")\n                .attr('style', 'pointer-events: none; user-select: none;');\n        }\n\n        if (scalar_str != \"\") {\n            svg.append(\"text\")\n                .text(scalar_str)\n                .attr(\"x\", 60).attr(\"y\", 40)\n                .attr(\"text-anchor\", \"middle\")\n        }\n\n        function update_hboxes() {\n            if (auto_hbox) {\n                var pos = {};\n                hbox.attr(\"transform\", function(d) {\n                    // calculate barycenter of non-hbox neighbours, then nudge a bit\n                    // to the NE.\n                    var x=0,y=0,sz=0;\n                    for (var i = 0; i < d.nhd.length; ++i) {\n                        if (d.nhd[i].t != 3) {\n                            sz++;\n                            x += d.nhd[i].x;\n                            y += d.nhd[i].y;\n                        }\n                    }\n\n                    offset = 0.25 * scale;\n\n                    if (sz != 0) {\n                        x = (x/sz) + offset;\n                        y = (y/sz) - offset;\n\n                        while (pos[[x,y]]) {\n                            x += offset;\n                        }\n                        d.x = x;\n                        d.y = y;\n                        pos[[x,y]] = true;\n                    }\n\n                    return \"translate(\"+d.x+\",\"+d.y+\")\";\n                });\n            }\n        }\n\n        update_hboxes();\n\n        link.attr(\"x1\", function(d) { return d.source.x; })\n            .attr(\"y1\", function(d) { return d.source.y; })\n            .attr(\"x2\", function(d) { return d.target.x; })\n            .attr(\"y2\", function(d) { return d.target.y; });\n\n        // EVENTS FOR DRAGGING AND SELECTION\n\n        node.on(\"mousedown\", function(d) {\n                if (shiftKey) {\n                    d3.select(this).select(\":first-child\").attr(\"style\", nodeStyle(d.selected = !d.selected));\n                    d3.event.stopImmediatePropagation();\n                } else if (!d.selected) {\n                    node.select(\":first-child\").attr(\"style\", function(p) { return nodeStyle(p.selected = d === p); });\n                }\n            })\n            .call(d3.drag().on(\"drag\", function(d) {\n                var dx = d3.event.dx;\n                var dy = d3.event.dy;\n                // node.filter(function(d) { return d.selected; })\n                //     .attr(\"cx\", function(d) { return d.x += dx; })\n                //     .attr(\"cy\", function(d) { return d.y += dy; });\n                node.filter(function(d) { return d.selected; })\n                    .attr(\"transform\", function(d) {\n                        d.x += dx;\n                        d.y += dy;\n                        return \"translate(\" + d.x + \",\" + d.y +\")\";\n                    });\n\n                update_hboxes();\n\n                link.filter(function(d) { return d.source.selected ||\n                                            (auto_hbox && d.source.t == 3); })\n                    .attr(\"x1\", function(d) { return d.source.x; })\n                    .attr(\"y1\", function(d) { return d.source.y; });\n\n                link.filter(function(d) { return d.target.selected ||\n                                            (auto_hbox && d.target.t == 3); })\n                    .attr(\"x2\", function(d) { return d.target.x; })\n                    .attr(\"y2\", function(d) { return d.target.y; });\n\n                // text.filter(function(d) { return d.selected; })\n                //     .attr(\"x\", function(d) { return d.x; })\n                //     .attr(\"y\", function(d) { return d.y + 0.7 * node_size + 14; });\n            }));\n\n        brush.call(d3.brush().keyModifiers(false)\n            .extent([[0, 0], [width, height]])\n            .on(\"start\", function() {\n                if (d3.event.sourceEvent.type !== \"end\") {\n                    node.select(\":first-child\").attr(\"style\", function(d) {\n                        return nodeStyle(\n                            d.selected = d.previouslySelected = shiftKey &&\n                            d.selected);\n                    });\n                }\n            })\n            .on(\"brush\", function() {\n                if (d3.event.sourceEvent.type !== \"end\") {\n                    var selection = d3.event.selection;\n                    node.select(\":first-child\").attr(\"style\", function(d) {\n                        return nodeStyle(d.selected = d.previouslySelected ^\n                            (selection != null\n                            && selection[0][0] <= d.x && d.x < selection[1][0]\n                            && selection[0][1] <= d.y && d.y < selection[1][1]));\n                    });\n                }\n            })\n            .on(\"end\", function() {\n                if (d3.event.selection != null) {\n                    d3.select(this).call(d3.event.target.move, null);\n                }\n            }));\n    }};\n});\n\n</script>\n<script type=\"text/javascript\">\nrequire(['zx_viewer'], function(zx_viewer) {\n    zx_viewer.showGraph('#graph-output-ZU4ST51l',\n    JSON.parse('{\"nodes\": [{\"name\": \"0\", \"x\": 50, \"y\": 100, \"t\": 0, \"phase\": \"\"}, {\"name\": \"1\", \"x\": 50, \"y\": 150, \"t\": 0, \"phase\": \"\"}, {\"name\": \"2\", \"x\": 50, \"y\": 200, \"t\": 0, \"phase\": \"\"}, {\"name\": \"3\", \"x\": 50, \"y\": 250, \"t\": 0, \"phase\": \"\"}, {\"name\": \"4\", \"x\": 100, \"y\": 200, \"t\": 1, \"phase\": \"\"}, {\"name\": \"5\", \"x\": 150, \"y\": 200, \"t\": 1, \"phase\": \"\"}, {\"name\": \"6\", \"x\": 150, \"y\": 100, \"t\": 1, \"phase\": \"\"}, {\"name\": \"7\", \"x\": 150, \"y\": 150, \"t\": 1, \"phase\": \"\"}, {\"name\": \"8\", \"x\": 175.0, \"y\": 125.0, \"t\": 3, \"phase\": \"\"}, {\"name\": \"9\", \"x\": 200, \"y\": 200, \"t\": 1, \"phase\": \"\"}, {\"name\": \"10\", \"x\": 250, \"y\": 100, \"t\": 0, \"phase\": \"\"}, {\"name\": \"11\", \"x\": 250, \"y\": 150, \"t\": 0, \"phase\": \"\"}, {\"name\": \"12\", \"x\": 250, \"y\": 200, \"t\": 0, \"phase\": \"\"}, {\"name\": \"13\", \"x\": 250, \"y\": 250, \"t\": 0, \"phase\": \"\"}], \"links\": [{\"source\": \"0\", \"target\": \"6\", \"t\": 1}, {\"source\": \"1\", \"target\": \"7\", \"t\": 1}, {\"source\": \"2\", \"target\": \"4\", \"t\": 2}, {\"source\": \"3\", \"target\": \"13\", \"t\": 1}, {\"source\": \"4\", \"target\": \"5\", \"t\": 1}, {\"source\": \"5\", \"target\": \"8\", \"t\": 1}, {\"source\": \"5\", \"target\": \"9\", \"t\": 2}, {\"source\": \"6\", \"target\": \"8\", \"t\": 1}, {\"source\": \"6\", \"target\": \"10\", \"t\": 1}, {\"source\": \"7\", \"target\": \"8\", \"t\": 1}, {\"source\": \"7\", \"target\": \"11\", \"t\": 1}, {\"source\": \"9\", \"target\": \"12\", \"t\": 1}]}'), 300, 300, 50, 10.0, false, false, '');\n});\n</script>"
     },
     "metadata": {}
    },
    {
     "output_type": "stream",
     "name": "stdout",
     "text": [
      "gc\n"
     ]
    },
    {
     "output_type": "display_data",
     "data": {
      "text/plain": "<IPython.core.display.HTML object>",
      "text/html": "<div style=\"overflow:auto\" id=\"graph-output-zk9WGGd8\"></div>\n<script type=\"text/javascript\">\nrequire.config({paths: {d3: \"https://d3js.org/d3.v5.min\"} });\n// PyZX - Python library for quantum circuit rewriting \n//        and optimisation using the ZX-calculus\n// Copyright (C) 2018 - Aleks Kissinger and John van de Wetering\n\n// Licensed under the Apache License, Version 2.0 (the \"License\");\n// you may not use this file except in compliance with the License.\n// You may obtain a copy of the License at\n\n//    http://www.apache.org/licenses/LICENSE-2.0\n\n// Unless required by applicable law or agreed to in writing, software\n// distributed under the License is distributed on an \"AS IS\" BASIS,\n// WITHOUT WARRANTIES OR CONDITIONS OF ANY KIND, either express or implied.\n// See the License for the specific language governing permissions and\n// limitations under the License.\n\nrequire.undef('zx_viewer');\n\ndefine('zx_viewer', ['d3'], function(d3) {\n    \n    // styling functions\n    function nodeColor(t) {\n        if (t == 0) return \"black\";\n        else if (t == 1) return \"#ccffcc\";\n        else if (t == 2) return \"#ff8888\";\n        else if (t == 3) return \"yellow\";\n    }\n\n    function edgeColor(t) {\n        if (t == 1) return \"black\";\n        else if (t == 2) return \"#08f\";\n    }\n\n    function nodeStyle(selected) {\n        return selected ? \"stroke-width: 2px; stroke: #00f\" : \"stroke-width: 1.5px\";\n    }\n\n    return {\n    showGraph: function(tag, graph, width, height, scale, node_size, auto_hbox, show_labels, scalar_str) {\n        var ntab = {};\n\n        graph.nodes.forEach(function(d) {\n            ntab[d.name] = d;\n            d.selected = false;\n            d.previouslySelected = false;\n            d.nhd = [];\n        });\n\n        var spiders_and_boundaries = graph.nodes.filter(function(d) {\n            return d.t != 3;\n        });\n\n        graph.links.forEach(function(d) {\n            var s = ntab[d.source];\n            var t = ntab[d.target];\n            d.source = s;\n            d.target = t;\n            s.nhd.push(t);\n            t.nhd.push(s);\n        });\n\n        var shiftKey;\n\n        // SETUP SVG ITEMS\n\n        var svg = d3.select(tag)\n            //.attr(\"tabindex\", 1)\n            .on(\"keydown.brush\", function() {shiftKey = d3.event.shiftKey || d3.event.metaKey;})\n            .on(\"keyup.brush\", function() {shiftKey = d3.event.shiftKey || d3.event.metaKey;})\n            //.each(function() { this.focus(); })\n            .append(\"svg\")\n            .attr(\"style\", \"max-width: none; max-height: none\")\n            .attr(\"width\", width)\n            .attr(\"height\", height);\n\n        var link = svg.append(\"g\")\n            .attr(\"class\", \"link\")\n            .selectAll(\"line\")\n            .data(graph.links)\n            .enter().append(\"line\")\n            .attr(\"stroke\", function(d) { return edgeColor(d.t); })\n            .attr(\"style\", \"stroke-width: 1.5px\");\n\n        var brush = svg.append(\"g\")\n            .attr(\"class\", \"brush\");\n\n        var node = svg.append(\"g\")\n            .attr(\"class\", \"node\")\n            .selectAll(\"g\")\n            .data(graph.nodes)\n            .enter().append(\"g\")\n            .attr(\"transform\", function(d) {\n                return \"translate(\" + d.x + \",\" + d.y +\")\";\n            });\n\n        node.filter(function(d) { return d.t != 3; })\n            .append(\"circle\")\n            .attr(\"r\", function(d) {\n               if (d.t == 0) return 0.5 * node_size;\n               else return node_size;\n            })\n            .attr(\"fill\", function(d) { return nodeColor(d.t); })\n            .attr(\"stroke\", \"black\");\n\n        var hbox = node.filter(function(d) { return d.t == 3; });\n\n        hbox.append(\"rect\")\n            .attr(\"x\", -0.75 * node_size).attr(\"y\", -0.75 * node_size)\n            .attr(\"width\", node_size * 1.5).attr(\"height\", node_size * 1.5)\n            .attr(\"fill\", function(d) { return nodeColor(d.t); })\n            .attr(\"stroke\", \"black\");\n\n        node.filter(function(d) { return d.phase != ''; })\n            .append(\"text\")\n            .attr(\"y\", 0.7 * node_size + 14)\n            .text(function (d) { return d.phase })\n            .attr(\"text-anchor\", \"middle\")\n            .attr(\"font-size\", \"12px\")\n            .attr(\"font-family\", \"monospace\")\n            .attr(\"fill\", \"#00d\")\n            .attr('style', 'pointer-events: none; user-select: none;');\n\n        if (show_labels) {\n            node.append(\"text\")\n                .attr(\"y\", -0.7 * node_size - 8)\n                .text(function (d) { return d.name; })\n                .attr(\"text-anchor\", \"middle\")\n                .attr(\"font-size\", \"10px\")\n                .attr(\"font-family\", \"monospace\")\n                .attr(\"fill\", \"#999\")\n                .attr('style', 'pointer-events: none; user-select: none;');\n        }\n\n        if (scalar_str != \"\") {\n            svg.append(\"text\")\n                .text(scalar_str)\n                .attr(\"x\", 60).attr(\"y\", 40)\n                .attr(\"text-anchor\", \"middle\")\n        }\n\n        function update_hboxes() {\n            if (auto_hbox) {\n                var pos = {};\n                hbox.attr(\"transform\", function(d) {\n                    // calculate barycenter of non-hbox neighbours, then nudge a bit\n                    // to the NE.\n                    var x=0,y=0,sz=0;\n                    for (var i = 0; i < d.nhd.length; ++i) {\n                        if (d.nhd[i].t != 3) {\n                            sz++;\n                            x += d.nhd[i].x;\n                            y += d.nhd[i].y;\n                        }\n                    }\n\n                    offset = 0.25 * scale;\n\n                    if (sz != 0) {\n                        x = (x/sz) + offset;\n                        y = (y/sz) - offset;\n\n                        while (pos[[x,y]]) {\n                            x += offset;\n                        }\n                        d.x = x;\n                        d.y = y;\n                        pos[[x,y]] = true;\n                    }\n\n                    return \"translate(\"+d.x+\",\"+d.y+\")\";\n                });\n            }\n        }\n\n        update_hboxes();\n\n        link.attr(\"x1\", function(d) { return d.source.x; })\n            .attr(\"y1\", function(d) { return d.source.y; })\n            .attr(\"x2\", function(d) { return d.target.x; })\n            .attr(\"y2\", function(d) { return d.target.y; });\n\n        // EVENTS FOR DRAGGING AND SELECTION\n\n        node.on(\"mousedown\", function(d) {\n                if (shiftKey) {\n                    d3.select(this).select(\":first-child\").attr(\"style\", nodeStyle(d.selected = !d.selected));\n                    d3.event.stopImmediatePropagation();\n                } else if (!d.selected) {\n                    node.select(\":first-child\").attr(\"style\", function(p) { return nodeStyle(p.selected = d === p); });\n                }\n            })\n            .call(d3.drag().on(\"drag\", function(d) {\n                var dx = d3.event.dx;\n                var dy = d3.event.dy;\n                // node.filter(function(d) { return d.selected; })\n                //     .attr(\"cx\", function(d) { return d.x += dx; })\n                //     .attr(\"cy\", function(d) { return d.y += dy; });\n                node.filter(function(d) { return d.selected; })\n                    .attr(\"transform\", function(d) {\n                        d.x += dx;\n                        d.y += dy;\n                        return \"translate(\" + d.x + \",\" + d.y +\")\";\n                    });\n\n                update_hboxes();\n\n                link.filter(function(d) { return d.source.selected ||\n                                            (auto_hbox && d.source.t == 3); })\n                    .attr(\"x1\", function(d) { return d.source.x; })\n                    .attr(\"y1\", function(d) { return d.source.y; });\n\n                link.filter(function(d) { return d.target.selected ||\n                                            (auto_hbox && d.target.t == 3); })\n                    .attr(\"x2\", function(d) { return d.target.x; })\n                    .attr(\"y2\", function(d) { return d.target.y; });\n\n                // text.filter(function(d) { return d.selected; })\n                //     .attr(\"x\", function(d) { return d.x; })\n                //     .attr(\"y\", function(d) { return d.y + 0.7 * node_size + 14; });\n            }));\n\n        brush.call(d3.brush().keyModifiers(false)\n            .extent([[0, 0], [width, height]])\n            .on(\"start\", function() {\n                if (d3.event.sourceEvent.type !== \"end\") {\n                    node.select(\":first-child\").attr(\"style\", function(d) {\n                        return nodeStyle(\n                            d.selected = d.previouslySelected = shiftKey &&\n                            d.selected);\n                    });\n                }\n            })\n            .on(\"brush\", function() {\n                if (d3.event.sourceEvent.type !== \"end\") {\n                    var selection = d3.event.selection;\n                    node.select(\":first-child\").attr(\"style\", function(d) {\n                        return nodeStyle(d.selected = d.previouslySelected ^\n                            (selection != null\n                            && selection[0][0] <= d.x && d.x < selection[1][0]\n                            && selection[0][1] <= d.y && d.y < selection[1][1]));\n                    });\n                }\n            })\n            .on(\"end\", function() {\n                if (d3.event.selection != null) {\n                    d3.select(this).call(d3.event.target.move, null);\n                }\n            }));\n    }};\n});\n\n</script>\n<script type=\"text/javascript\">\nrequire(['zx_viewer'], function(zx_viewer) {\n    zx_viewer.showGraph('#graph-output-zk9WGGd8',\n    JSON.parse('{\"nodes\": [{\"name\": \"0\", \"x\": 50, \"y\": 100, \"t\": 0, \"phase\": \"\"}, {\"name\": \"1\", \"x\": 50, \"y\": 150, \"t\": 0, \"phase\": \"\"}, {\"name\": \"2\", \"x\": 50, \"y\": 200, \"t\": 0, \"phase\": \"\"}, {\"name\": \"3\", \"x\": 50, \"y\": 250, \"t\": 0, \"phase\": \"\"}, {\"name\": \"4\", \"x\": 100, \"y\": 200, \"t\": 1, \"phase\": \"\"}, {\"name\": \"5\", \"x\": 150, \"y\": 200, \"t\": 2, \"phase\": \"\"}, {\"name\": \"6\", \"x\": 150, \"y\": 150, \"t\": 1, \"phase\": \"\"}, {\"name\": \"7\", \"x\": 200, \"y\": 200, \"t\": 1, \"phase\": \"7\\u03c0/4\"}, {\"name\": \"8\", \"x\": 250, \"y\": 200, \"t\": 2, \"phase\": \"\"}, {\"name\": \"9\", \"x\": 250, \"y\": 100, \"t\": 1, \"phase\": \"\"}, {\"name\": \"10\", \"x\": 300, \"y\": 200, \"t\": 1, \"phase\": \"\\u03c0/4\"}, {\"name\": \"11\", \"x\": 350, \"y\": 200, \"t\": 2, \"phase\": \"\"}, {\"name\": \"12\", \"x\": 350, \"y\": 150, \"t\": 1, \"phase\": \"\"}, {\"name\": \"13\", \"x\": 400, \"y\": 200, \"t\": 1, \"phase\": \"7\\u03c0/4\"}, {\"name\": \"14\", \"x\": 450, \"y\": 200, \"t\": 2, \"phase\": \"\"}, {\"name\": \"15\", \"x\": 450, \"y\": 100, \"t\": 1, \"phase\": \"\"}, {\"name\": \"16\", \"x\": 400, \"y\": 150, \"t\": 1, \"phase\": \"\\u03c0/4\"}, {\"name\": \"17\", \"x\": 500, \"y\": 200, \"t\": 1, \"phase\": \"\\u03c0/4\"}, {\"name\": \"18\", \"x\": 500, \"y\": 150, \"t\": 2, \"phase\": \"\"}, {\"name\": \"19\", \"x\": 500, \"y\": 100, \"t\": 1, \"phase\": \"\"}, {\"name\": \"20\", \"x\": 550, \"y\": 100, \"t\": 1, \"phase\": \"\\u03c0/4\"}, {\"name\": \"21\", \"x\": 550, \"y\": 150, \"t\": 1, \"phase\": \"7\\u03c0/4\"}, {\"name\": \"22\", \"x\": 600, \"y\": 150, \"t\": 2, \"phase\": \"\"}, {\"name\": \"23\", \"x\": 600, \"y\": 100, \"t\": 1, \"phase\": \"\"}, {\"name\": \"24\", \"x\": 550, \"y\": 200, \"t\": 1, \"phase\": \"\"}, {\"name\": \"25\", \"x\": 650, \"y\": 100, \"t\": 0, \"phase\": \"\"}, {\"name\": \"26\", \"x\": 650, \"y\": 150, \"t\": 0, \"phase\": \"\"}, {\"name\": \"27\", \"x\": 650, \"y\": 200, \"t\": 0, \"phase\": \"\"}, {\"name\": \"28\", \"x\": 650, \"y\": 250, \"t\": 0, \"phase\": \"\"}], \"links\": [{\"source\": \"0\", \"target\": \"9\", \"t\": 1}, {\"source\": \"1\", \"target\": \"6\", \"t\": 1}, {\"source\": \"2\", \"target\": \"4\", \"t\": 2}, {\"source\": \"3\", \"target\": \"28\", \"t\": 1}, {\"source\": \"4\", \"target\": \"5\", \"t\": 1}, {\"source\": \"5\", \"target\": \"6\", \"t\": 1}, {\"source\": \"5\", \"target\": \"7\", \"t\": 1}, {\"source\": \"6\", \"target\": \"12\", \"t\": 1}, {\"source\": \"7\", \"target\": \"8\", \"t\": 1}, {\"source\": \"8\", \"target\": \"9\", \"t\": 1}, {\"source\": \"8\", \"target\": \"10\", \"t\": 1}, {\"source\": \"9\", \"target\": \"15\", \"t\": 1}, {\"source\": \"10\", \"target\": \"11\", \"t\": 1}, {\"source\": \"11\", \"target\": \"12\", \"t\": 1}, {\"source\": \"11\", \"target\": \"13\", \"t\": 1}, {\"source\": \"12\", \"target\": \"16\", \"t\": 1}, {\"source\": \"13\", \"target\": \"14\", \"t\": 1}, {\"source\": \"14\", \"target\": \"15\", \"t\": 1}, {\"source\": \"14\", \"target\": \"17\", \"t\": 1}, {\"source\": \"15\", \"target\": \"19\", \"t\": 1}, {\"source\": \"16\", \"target\": \"18\", \"t\": 1}, {\"source\": \"17\", \"target\": \"24\", \"t\": 2}, {\"source\": \"18\", \"target\": \"19\", \"t\": 1}, {\"source\": \"18\", \"target\": \"21\", \"t\": 1}, {\"source\": \"19\", \"target\": \"20\", \"t\": 1}, {\"source\": \"20\", \"target\": \"23\", \"t\": 1}, {\"source\": \"21\", \"target\": \"22\", \"t\": 1}, {\"source\": \"22\", \"target\": \"23\", \"t\": 1}, {\"source\": \"22\", \"target\": \"26\", \"t\": 1}, {\"source\": \"23\", \"target\": \"25\", \"t\": 1}, {\"source\": \"24\", \"target\": \"27\", \"t\": 1}]}'), 700, 300, 50, 10.0, false, false, '');\n});\n</script>"
     },
     "metadata": {}
    }
   ],
   "source": [
    "# Zx_circuit proprieties:\n",
    "\n",
    "# first let's see how I can build a circuit just in pyZx\n",
    "c=zx.Circuit(4)\n",
    "c.add_gate(\"TOF\",0,1,2)\n",
    "zx.draw(c)\n",
    "gc=c.to_basic_gates()\n",
    "print(\"gc\")\n",
    "zx.draw(gc)"
   ]
  },
  {
   "cell_type": "code",
   "execution_count": 12,
   "metadata": {},
   "outputs": [
    {
     "output_type": "stream",
     "name": "stdout",
     "text": [
      "gates: [HAD(2), CNOT(1,2), T*(2), CNOT(0,2), T(2), CNOT(1,2), T*(2), CNOT(0,2), T(1), T(2), CNOT(0,1), T(0), T*(1), CNOT(0,1), HAD(2)]\n"
     ]
    },
    {
     "output_type": "execute_result",
     "data": {
      "text/plain": [
       "'Circuit  on 4 qubits with 15 gates.\\n        7 is the T-count\\n        8 Cliffords among which \\n        6 2-qubit gates (6 CNOT, 0 other) and\\n        2 Hadamard gates.'"
      ]
     },
     "metadata": {},
     "execution_count": 12
    }
   ],
   "source": [
    "print(\"gates:\", gc.gates)\n",
    "gc.stats()"
   ]
  },
  {
   "cell_type": "code",
   "execution_count": 13,
   "metadata": {},
   "outputs": [],
   "source": [
    " gates=gc.gates"
   ]
  },
  {
   "cell_type": "code",
   "execution_count": 14,
   "metadata": {},
   "outputs": [
    {
     "output_type": "execute_result",
     "data": {
      "text/plain": [
       "'HAD(2)'"
      ]
     },
     "metadata": {},
     "execution_count": 14
    }
   ],
   "source": [
    "str(gc.gates[0])"
   ]
  },
  {
   "cell_type": "code",
   "execution_count": 15,
   "metadata": {},
   "outputs": [],
   "source": [
    "CNOT=cirq.CNOT\n",
    "CCZ=cirq.CCZ\n",
    "TOFFOLI=cirq.TOFFOLI\n",
    "\n",
    "Z=cirq.Z\n",
    "X=cirq.X\n",
    "Y=cirq.Y\n",
    "\n",
    "HAD=cirq.H\n",
    "S=cirq.S\n",
    "S_ =cirq.S**-1\n",
    "T=cirq.T\n",
    "T_ =cirq.T**-1\n",
    "\n",
    "gate_colection={ 'CNOT':CNOT, 'CCZ':CCZ, 'TOFFOLI':TOFFOLI, 'Z':Z, 'X':X, 'Y':Y, 'HAD':HAD, 'S':S, 'S*':S_, 'T':T, 'T*':T_, }"
   ]
  },
  {
   "cell_type": "code",
   "execution_count": 16,
   "metadata": {},
   "outputs": [],
   "source": [
    "nr_qubits=gc.qubits\n",
    "q_list=[]\n",
    "for i in range(nr_qubits):\n",
    "    q_list.append(cirq.NamedQubit('q'+str(i)))"
   ]
  },
  {
   "cell_type": "code",
   "execution_count": 17,
   "metadata": {},
   "outputs": [],
   "source": [
    "gates=gc.gates\n",
    " \n",
    "cq_gates=[]\n",
    "for i in gates:\n",
    "    i=str(i)\n",
    "    qubits_id=[]\n",
    "    s=i.find(\"(\")\n",
    "    ss=i.find(\")\")\n",
    "    name=i[0:s]\n",
    "    #print(name)\n",
    "\n",
    "    while s<ss-1:\n",
    "        qubits_id.append(int(i[s+1]))\n",
    "        s=s+2\n",
    "    #print(qubits_id)\n",
    "    \n",
    "    nrq=len(qubits_id)\n",
    "    if nrq==1:\n",
    "        cq_gate=gate_colection[name](q_list[qubits_id[0]]) \n",
    "    if  nrq==2:\n",
    "        cq_gate=gate_colection[name](q_list[qubits_id[0]], q_list[qubits_id[1]])\n",
    "    if  nrq==3:\n",
    "        cq_gate=gate_colection[name](q_list[qubits_id[0]], q_list[qubits_id[1]], q_list[qubits_id[2]])\n",
    "    \n",
    "    cq_gates.append(cq_gate)\n",
    "\n"
   ]
  },
  {
   "cell_type": "code",
   "execution_count": 18,
   "metadata": {},
   "outputs": [
    {
     "output_type": "stream",
     "name": "stdout",
     "text": [
      "q_list: [cirq.NamedQubit('q0'), cirq.NamedQubit('q1'), cirq.NamedQubit('q2'), cirq.NamedQubit('q3')]\ncriq circuit:\nq0: ──────────────────@──────────────────@───@───T──────@───\n                      │                  │   │          │\nq1: ───────@──────────┼───────@───T──────┼───X───T^-1───X───\n           │          │       │          │\nq2: ───H───X───T^-1───X───T───X───T^-1───X───T───H──────────\n"
     ]
    }
   ],
   "source": [
    "circuit=cirq.Circuit()\n",
    "circuit.append(cq_gates)\n",
    "\n",
    "print(\"q_list:\",q_list)\n",
    "print(\"criq circuit:\")\n",
    "print(circuit)"
   ]
  },
  {
   "cell_type": "code",
   "execution_count": 19,
   "metadata": {},
   "outputs": [],
   "source": [
    "from PyZx_Cirq_StoneAge import to_Cirq_circuit"
   ]
  },
  {
   "cell_type": "code",
   "execution_count": 20,
   "metadata": {},
   "outputs": [
    {
     "output_type": "execute_result",
     "data": {
      "text/plain": [
       "Circuit(4 qubits, 15 gates)"
      ]
     },
     "metadata": {},
     "execution_count": 20
    }
   ],
   "source": [
    "gc"
   ]
  },
  {
   "cell_type": "code",
   "execution_count": 22,
   "metadata": {},
   "outputs": [
    {
     "output_type": "stream",
     "name": "stdout",
     "text": [
      "criq circuit:\nq0: ──────────────────@──────────────────@───@───T──────@───\n                      │                  │   │          │\nq1: ───────@──────────┼───────@───T──────┼───X───T^-1───X───\n           │          │       │          │\nq2: ───H───X───T^-1───X───T───X───T^-1───X───T───H──────────\n"
     ]
    }
   ],
   "source": [
    "cirq_circuit=to_Cirq_circuit(gc)\n",
    "print(\"criq circuit:\")\n",
    "print(cirq_circuit)"
   ]
  },
  {
   "cell_type": "code",
   "execution_count": null,
   "metadata": {},
   "outputs": [],
   "source": []
  }
 ],
 "metadata": {
  "kernelspec": {
   "name": "python3",
   "display_name": "Python 3.7.9 64-bit ('qosf_ment': conda)",
   "metadata": {
    "interpreter": {
     "hash": "a957f48039ed86bac6d3fa17c40ff16f229f14f6360beb75f97c383e2dd44ac7"
    }
   }
  },
  "language_info": {
   "codemirror_mode": {
    "name": "ipython",
    "version": 3
   },
   "file_extension": ".py",
   "mimetype": "text/x-python",
   "name": "python",
   "nbconvert_exporter": "python",
   "pygments_lexer": "ipython3",
   "version": "3.7.9-final"
  }
 },
 "nbformat": 4,
 "nbformat_minor": 5
}